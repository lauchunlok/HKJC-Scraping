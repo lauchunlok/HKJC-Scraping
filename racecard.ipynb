{
 "cells": [
  {
   "cell_type": "code",
   "execution_count": null,
   "metadata": {},
   "outputs": [],
   "source": [
    "from selenium import webdriver\n",
    "from selenium.webdriver.common.keys import Keys\n",
    "from selenium.webdriver.firefox.options import Options\n",
    "from bs4 import BeautifulSoup\n",
    "import re\n",
    "import requests\n",
    "import bs4\n",
    "\n",
    "from selenium.webdriver.support import expected_conditions as EC\n",
    "from selenium.webdriver.common.by import By\n",
    "from selenium.webdriver.support.ui import WebDriverWait\n",
    "\n",
    "import numpy as np"
   ]
  },
  {
   "cell_type": "code",
   "execution_count": null,
   "metadata": {},
   "outputs": [],
   "source": [
    "# Set up selenium to use Firefox\n",
    "options = Options()\n",
    "options.headless = True #No need to open a browser window\n",
    "\n",
    "# Example of manaully specifying the WebDriver's location: \n",
    "driver = webdriver.Firefox(executable_path=\"../Others/geckodriver.exe\",options=options)"
   ]
  },
  {
   "cell_type": "code",
   "execution_count": null,
   "metadata": {},
   "outputs": [],
   "source": [
    "def racecard(url, date, match):\n",
    "    driver.get(url)\n",
    "    \n",
    "    # Is there anything?\n",
    "    if driver.page_source.find(\"No information.\") != -1:\n",
    "        return []\n",
    "    \n",
    "    # Wait 10 secs so that the dynamic content has time to load.\n",
    "    # Proceed to next date if page doesn't load.\n",
    "    try:\n",
    "        wait = WebDriverWait(driver, 10).until(\n",
    "            EC.presence_of_element_located(((By.XPATH, \n",
    "                                             '//table[@class=\"starter f_tac f_fs13 draggable hiddenable\"]'))))\n",
    "    except Exception as e: \n",
    "        print(e, date, match)\n",
    "        return []\n",
    "    \n",
    "    soup = BeautifulSoup(driver.page_source, 'html.parser')\n",
    "    \n",
    "    table = soup.find('table', class_ = 'starter f_tac f_fs13 draggable hiddenable')\n",
    "\n",
    "    output_list = [] \n",
    "    \n",
    "    for tr in table.find('tbody').find_all('tr'):\n",
    "        cols = []\n",
    "        racecard = [td.string for td in tr('td')]\n",
    "\n",
    "        cols.extend(racecard)\n",
    "        \n",
    "        cols.append(date)\n",
    "        cols.append(match)\n",
    "        \n",
    "        output_list.append(cols)\n",
    " \n",
    "    return output_list"
   ]
  },
  {
   "cell_type": "code",
   "execution_count": null,
   "metadata": {},
   "outputs": [],
   "source": [
    "filepath = \"racecard_git.csv\"\n",
    "\n",
    "from datetime import date\n",
    "import time\n",
    "\n",
    "today = date.today().strftime(\"%Y%m%d\")\n",
    "url_front = 'https://racing.hkjc.com/racing/information/English/Racing/RaceCard.aspx?RaceDate='\n",
    "\n",
    "\n",
    "import csv\n",
    "with open(filepath, 'w', newline='') as csvfile:\n",
    "    mywriter = csv.writer(csvfile)\n",
    "    mywriter.writerow(['Horse No.', 'Last 6 Runs', 'Colour', 'Horse', 'Brand No.', 'Wt.', 'Jockey', 'Over Wt.', \n",
    "                       'Draw', 'Trainer', \"Int'l Rtg.\", 'Rtg.', 'Rtg.+/-', 'Horse Wt. (Declaration)', 'Wt.+/- (vs Declaration)', 'Best Time', 'Age',\n",
    "                       'WFA', 'Sex', 'Season Stakes', 'Priority', 'Gear', 'Owner', 'Sire', 'Dam', 'Import Cat.', \"date\", \"match\"]\n",
    "                     )\n",
    "    \n",
    "    #Copy the loop from above and incorporate the csv-saving code\n",
    "    for match in range(1, 13):\n",
    "        start_time = time.time()\n",
    "        url = url_front + str(today) + '&RaceNo='+ str(match)\n",
    "        \n",
    "        content = racecard(url, today, match)\n",
    "        content = np.array(content)\n",
    "        if len(content) > 0:\n",
    "            mywriter.writerows(content)\n",
    "            print(today, match, \"saved.\")"
   ]
  }
 ],
 "metadata": {
  "kernelspec": {
   "display_name": "Python 3",
   "language": "python",
   "name": "python3"
  },
  "language_info": {
   "codemirror_mode": {
    "name": "ipython",
    "version": 3
   },
   "file_extension": ".py",
   "mimetype": "text/x-python",
   "name": "python",
   "nbconvert_exporter": "python",
   "pygments_lexer": "ipython3",
   "version": "3.8.5"
  }
 },
 "nbformat": 4,
 "nbformat_minor": 4
}
